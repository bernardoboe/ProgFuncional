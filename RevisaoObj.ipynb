{
 "cells": [
  {
   "cell_type": "code",
   "execution_count": 5,
   "metadata": {},
   "outputs": [
    {
     "name": "stdout",
     "output_type": "stream",
     "text": [
      "Python é legal!\n",
      "9.3\n",
      "Python é legal!Vai cair na prova!\n",
      "19.3\n"
     ]
    }
   ],
   "source": [
    "class Pessoa:\n",
    "    def __init__(self, altura, cor_cabelo, peso):\n",
    "        self.altura = altura\n",
    "        self.cor_cabelo = cor_cabelo\n",
    "        self.peso = peso\n",
    "\n",
    "    def falar(self, frase):\n",
    "        return frase\n",
    "\n",
    "    def andar(self, velocidade):\n",
    "        velocidade_real = velocidade - 0.01 * self.peso\n",
    "        return velocidade_real\n",
    "\n",
    "class Professor(Pessoa):\n",
    "    def __init__(self, altura, cor_cabelo, peso, salario):\n",
    "        super().__init__(altura, cor_cabelo, peso)\n",
    "        self.salario = salario\n",
    "\n",
    "    def falar(self, frase):\n",
    "        return frase + \"Vai cair na prova!\"\n",
    "    \n",
    "def main():\n",
    "    pessoaObj = Pessoa(1.80, \"castanho\", 70)\n",
    "    print(pessoaObj.falar(\"Python é legal!\"))\n",
    "    print(str(pessoaObj.andar(10)))\n",
    "\n",
    "    professorObj = Professor(1.80, \"castanho\", 70, 10000)\n",
    "    print(professorObj.falar(\"Python é legal!\"))\n",
    "    print(str(professorObj.andar(20)))\n",
    "\n",
    "\n",
    "if __name__ == \"__main__\":\n",
    "    main()\n"
   ]
  }
 ],
 "metadata": {
  "kernelspec": {
   "display_name": "Python 3",
   "language": "python",
   "name": "python3"
  },
  "language_info": {
   "codemirror_mode": {
    "name": "ipython",
    "version": 3
   },
   "file_extension": ".py",
   "mimetype": "text/x-python",
   "name": "python",
   "nbconvert_exporter": "python",
   "pygments_lexer": "ipython3",
   "version": "3.11.4"
  },
  "orig_nbformat": 4
 },
 "nbformat": 4,
 "nbformat_minor": 2
}
